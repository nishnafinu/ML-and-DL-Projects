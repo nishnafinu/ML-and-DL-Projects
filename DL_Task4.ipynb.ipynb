{
  "nbformat": 4,
  "nbformat_minor": 0,
  "metadata": {
    "colab": {
      "provenance": []
    },
    "kernelspec": {
      "name": "python3",
      "display_name": "Python 3"
    },
    "language_info": {
      "name": "python"
    }
  },
  "cells": [
    {
      "cell_type": "markdown",
      "source": [
        "# Deep Learning CNN for Fashion-MNIST Clothing Classification\n"
      ],
      "metadata": {
        "id": "SkUwlhQN7p_i"
      }
    },
    {
      "cell_type": "markdown",
      "source": [
        "**1**. Data Pre-processing"
      ],
      "metadata": {
        "id": "c2uPujIs75sq"
      }
    },
    {
      "cell_type": "code",
      "source": [
        "# Import basic Libraries\n",
        "\n",
        "from numpy import asarray\n",
        "from numpy import unique\n",
        "from numpy import argmax\n",
        "from tensorflow.keras.datasets.mnist import load_data\n",
        "from tensorflow.keras import Sequential\n",
        "from tensorflow.keras.layers import Dense\n",
        "from tensorflow.keras.layers import Conv2D\n",
        "from tensorflow.keras.layers import MaxPool2D\n",
        "from tensorflow.keras.layers import Flatten\n",
        "from tensorflow.keras.layers import Dropout\n",
        ""
      ],
      "metadata": {
        "id": "qyNs1Knv7-65"
      },
      "execution_count": 18,
      "outputs": []
    },
    {
      "cell_type": "code",
      "source": [
        "# Load the dataset,Splitting of dataset\n",
        "\n",
        "(x_train, y_train), (x_test, y_test) = load_data()\n",
        "x_train = x_train.reshape((x_train.shape[0], x_train.shape[1], x_train.shape[2], 1))\n",
        "x_test = x_test.reshape((x_test.shape[0], x_test.shape[1], x_test.shape[2], 1))\n",
        "in_shape = x_train.shape[1:]\n",
        "n_classes = len(unique(y_train))\n",
        "print(in_shape, n_classes)\n",
        "x_train = x_train.astype('float32') / 255.0\n",
        "x_test = x_test.astype('float32') / 255.0\n"
      ],
      "metadata": {
        "colab": {
          "base_uri": "https://localhost:8080/"
        },
        "id": "c7ygBngl8Mzy",
        "outputId": "ba7bc7d3-a48d-45ec-e279-be1647145c2e"
      },
      "execution_count": 19,
      "outputs": [
        {
          "output_type": "stream",
          "name": "stdout",
          "text": [
            "(28, 28, 1) 10\n"
          ]
        }
      ]
    },
    {
      "cell_type": "markdown",
      "source": [
        "**2** . Model Setup"
      ],
      "metadata": {
        "id": "Kk2x7j4k8xX4"
      }
    },
    {
      "cell_type": "code",
      "source": [
        "model = Sequential()\n",
        "model.add(Conv2D(32, (3,3), activation='relu', kernel_initializer='he_uniform', input_shape=in_shape))\n",
        "model.add(MaxPool2D((2, 2)))\n",
        "model.add(Flatten())\n",
        "model.add(Dense(100, activation='relu', kernel_initializer='he_uniform'))\n",
        "model.add(Dropout(0.5))\n",
        "model.add(Dense(n_classes, activation='softmax'))\n",
        "model.compile(optimizer='adam', loss='sparse_categorical_crossentropy', metrics=['accuracy'])\n",
        "model.fit(x_train, y_train, epochs=10, batch_size=128, verbose=0)"
      ],
      "metadata": {
        "colab": {
          "base_uri": "https://localhost:8080/"
        },
        "id": "VEHJRYNh8li9",
        "outputId": "32f2049f-3bca-47cd-97aa-1fe81efe5a5a"
      },
      "execution_count": 20,
      "outputs": [
        {
          "output_type": "execute_result",
          "data": {
            "text/plain": [
              "<keras.src.callbacks.History at 0x7da837272b90>"
            ]
          },
          "metadata": {},
          "execution_count": 20
        }
      ]
    },
    {
      "cell_type": "markdown",
      "source": [
        "**3**. Evaluate the Model"
      ],
      "metadata": {
        "id": "xca5QC2C9Xt2"
      }
    },
    {
      "cell_type": "code",
      "source": [
        "loss, acc = model.evaluate(x_test, y_test, verbose=0)\n",
        "print('Accuracy: %.3f' % acc)\n"
      ],
      "metadata": {
        "colab": {
          "base_uri": "https://localhost:8080/"
        },
        "id": "GASZU2P38s3A",
        "outputId": "cbabc101-94a1-467a-86d0-dc11a7873b27"
      },
      "execution_count": 21,
      "outputs": [
        {
          "output_type": "stream",
          "name": "stdout",
          "text": [
            "Accuracy: 0.987\n"
          ]
        }
      ]
    },
    {
      "cell_type": "markdown",
      "source": [
        "**4**. Make Predictions"
      ],
      "metadata": {
        "id": "wtmbteYE99Mj"
      }
    },
    {
      "cell_type": "code",
      "source": [
        "image = x_train[0]\n",
        "yhat = model.predict(asarray([image]))\n",
        "print('Predicted: class=%d' % argmax(yhat))"
      ],
      "metadata": {
        "colab": {
          "base_uri": "https://localhost:8080/"
        },
        "id": "Ty_cmCk39fPT",
        "outputId": "00005b85-a350-4a40-b13b-68e4710292f7"
      },
      "execution_count": 22,
      "outputs": [
        {
          "output_type": "stream",
          "name": "stdout",
          "text": [
            "1/1 [==============================] - 0s 62ms/step\n",
            "Predicted: class=5\n"
          ]
        }
      ]
    }
  ]
}